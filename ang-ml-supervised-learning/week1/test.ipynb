{
 "cells": [
  {
   "cell_type": "code",
   "execution_count": null,
   "id": "5892eb74-96da-488e-bd5a-dd794c57b619",
   "metadata": {},
   "outputs": [],
   "source": []
  }
 ],
 "metadata": {
  "kernelspec": {
   "display_name": "",
   "name": ""
  },
  "language_info": {
   "name": ""
  }
 },
 "nbformat": 4,
 "nbformat_minor": 5
}
